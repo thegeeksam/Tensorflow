{
  "nbformat": 4,
  "nbformat_minor": 0,
  "metadata": {
    "colab": {
      "name": "Making predictions with matrix multiplication.ipynb",
      "provenance": [],
      "authorship_tag": "ABX9TyPtsXeztm9EMGhqDeAYMfjh",
      "include_colab_link": true
    },
    "kernelspec": {
      "name": "python3",
      "display_name": "Python 3"
    }
  },
  "cells": [
    {
      "cell_type": "markdown",
      "metadata": {
        "id": "view-in-github",
        "colab_type": "text"
      },
      "source": [
        "<a href=\"https://colab.research.google.com/github/thegeeksam/Tensorflow/blob/master/Making_predictions_with_matrix_multiplication.ipynb\" target=\"_parent\"><img src=\"https://colab.research.google.com/assets/colab-badge.svg\" alt=\"Open In Colab\"/></a>"
      ]
    },
    {
      "cell_type": "code",
      "metadata": {
        "id": "CraV_M7NAMfh",
        "colab_type": "code",
        "colab": {}
      },
      "source": [
        "### Making predictions with matrix multiplication ###\n",
        "\n",
        "#from tensorflow import *\n",
        "import tensorflow\n",
        "#from numpy import *\n",
        "import numpy\n",
        "\n",
        "# Define features, params, and bill as constants\n",
        "features = constant([[2, 24], [2, 26], [2, 57], [1, 37]])\n",
        "params = constant([[1000], [150]])\n",
        "bill = constant([[3913], [2682], [8617], [64400]])\n",
        "\n",
        "# Compute billpred using features and params\n",
        "billpred = matmul(features,params)\n",
        "\n",
        "# Compute and print the error\n",
        "error = bill - billpred\n",
        "print(error.numpy())"
      ],
      "execution_count": 0,
      "outputs": []
    }
  ]
}