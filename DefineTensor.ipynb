{
  "nbformat": 4,
  "nbformat_minor": 0,
  "metadata": {
    "colab": {
      "name": "DefineTensor.ipynb",
      "provenance": [],
      "collapsed_sections": [],
      "authorship_tag": "ABX9TyMcBmkHKxEklZtv8/5j28Q5",
      "include_colab_link": true
    },
    "kernelspec": {
      "name": "python3",
      "display_name": "Python 3"
    }
  },
  "cells": [
    {
      "cell_type": "markdown",
      "metadata": {
        "id": "view-in-github",
        "colab_type": "text"
      },
      "source": [
        "<a href=\"https://colab.research.google.com/github/thegeeksam/Tensorflow/blob/master/DefineTensor.ipynb\" target=\"_parent\"><img src=\"https://colab.research.google.com/assets/colab-badge.svg\" alt=\"Open In Colab\"/></a>"
      ]
    },
    {
      "cell_type": "code",
      "metadata": {
        "id": "1niLzby_VUl_",
        "colab_type": "code",
        "colab": {
          "base_uri": "https://localhost:8080/",
          "height": 179
        },
        "outputId": "0faa10f6-3b1b-45d3-e54e-544d36463feb"
      },
      "source": [
        "import tensorflow as tf\n",
        "\n",
        "#0D Tensor\n",
        "d0 = tf.ones((1,))\n",
        "print(\"#0D Tensor\",d0.numpy())\n",
        "\n",
        "#1D Tensor\n",
        "d1 = tf.ones((2,))\n",
        "print(\"#1D Tensor\",d1.numpy())\n",
        "\n",
        "#2D Tensor\n",
        "d2 = tf.ones((2,2,))\n",
        "print(\"#2D Tensor\",d2.numpy())\n",
        "\n",
        "#3D Tensor\n",
        "d3 = tf.ones((2,2,2,))\n",
        "print(\"#3D Tensor\",d3.numpy())"
      ],
      "execution_count": 3,
      "outputs": [
        {
          "output_type": "stream",
          "text": [
            "#0D Tensor [1.]\n",
            "#1D Tensor [1. 1.]\n",
            "#2D Tensor [[1. 1.]\n",
            " [1. 1.]]\n",
            "#3D Tensor [[[1. 1.]\n",
            "  [1. 1.]]\n",
            "\n",
            " [[1. 1.]\n",
            "  [1. 1.]]]\n"
          ],
          "name": "stdout"
        }
      ]
    }
  ]
}